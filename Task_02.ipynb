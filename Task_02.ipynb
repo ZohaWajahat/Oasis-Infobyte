{
 "cells": [
  {
   "cell_type": "code",
   "execution_count": 2,
   "id": "429225d6",
   "metadata": {},
   "outputs": [],
   "source": [
    "import customtkinter\n",
    "from tkinter import *\n",
    "from tkinter import messagebox\n",
    "def calculate_bmi():\n",
    "    try:\n",
    "        height=float(height_entry.get())\n",
    "        weight=float(weight_entry.get())\n",
    "        if variable2.get()==\"ft\":\n",
    "            height*=30.48\n",
    "        if variable2.get()==\"lbs\":\n",
    "            height*=0.453592\n",
    "        bmi=weight/((height/100)**2)\n",
    "        result_label.configure(text=\"Your BMI is: {:.1f}\".format(bmi))\n",
    "        if bmi<18.5:\n",
    "            remarks_label.configure(text=\"You are Underweight\")\n",
    "        elif bmi>=18.5 and bmi<25:\n",
    "            remarks_label.configure(text=\"You are Normal\")\n",
    "        elif bmi>=25 and bmi<30:\n",
    "            remarks_label.configure(text=\"You are Overweight\")\n",
    "        elif bmi>=30:\n",
    "            remarks_label.configure(text=\"You are Obeseweight\")\n",
    "    except ValueError:\n",
    "        messagebox.showerror('Error', 'Enter a valid number!')\n",
    "    except ZeroDivisionError:\n",
    "        messagebox.showerror('Error','Height cannot be 0')\n",
    "app=customtkinter.CTk()\n",
    "app.title('BMI Calculator')\n",
    "app.geometry('300x380')\n",
    "app.config(bg='#000')\n",
    "font1=('Arial',30,'bold')\n",
    "font2=('Arial',18,'bold')\n",
    "font3=('Arial',25,'bold')\n",
    "title_label=customtkinter.CTkLabel(app, font=font1, text='BMI Calculator', text_color='#fff', bg_color='#000')\n",
    "title_label.place(x=20, y=20)\n",
    "weight_label=customtkinter.CTkLabel(app, font=font2, text='Weight', text_color='#fff', bg_color='#000')\n",
    "weight_label.place(x=20, y=80)\n",
    "height_label=customtkinter.CTkLabel(app, font=font2, text='Height', text_color='#fff', bg_color='#000')\n",
    "height_label.place(x=20, y=150)\n",
    "weight_entry=customtkinter.CTkEntry(app, font=font2, text_color='#000', fg_color='#fff', border_color='#fff')\n",
    "weight_entry.place(x=20, y=110)\n",
    "height_entry=customtkinter.CTkEntry(app, font=font2, text_color='#000', fg_color='#fff', border_color='#fff')\n",
    "height_entry.place(x=20, y=180)\n",
    "weight_options=['kg','lbs']\n",
    "height_options=['cm','ft']\n",
    "variable1=StringVar()\n",
    "variable2=StringVar()\n",
    "weight_option=customtkinter.CTkComboBox(app, font=font2, text_color='#000', fg_color='#fff', dropdown_hover_color='#06911f', values=weight_options, variable=variable1, width=80)\n",
    "weight_option.place(x=180, y=110)\n",
    "weight_option.set('kg')\n",
    "height_option=customtkinter.CTkComboBox(app, font=font2, text_color='#000', fg_color='#fff', dropdown_hover_color='#06911f', values=height_options, variable=variable2, width=80)\n",
    "height_option.place(x=180, y=180)\n",
    "height_option.set('cm')\n",
    "calculate_button=customtkinter.CTkButton(app, command=calculate_bmi, font=font2, text_color='#fff', text='Calculate BMI', fg_color='#06911f', hover_color='#06911f', bg_color='#000', cursor='hand2', corner_radius=5, width=200)\n",
    "calculate_button.place(x=50, y=230)\n",
    "result_label=customtkinter.CTkLabel(app, text='', font=font3, text_color='#fff', bg_color='#000')\n",
    "result_label.place(x=30, y=280)\n",
    "remarks_label=customtkinter.CTkLabel(app, text='', font=font3, text_color='#fff', bg_color='#000')\n",
    "remarks_label.place(x=30, y=330)\n",
    "app.mainloop()"
   ]
  },
  {
   "cell_type": "code",
   "execution_count": null,
   "id": "b712ee8c",
   "metadata": {},
   "outputs": [],
   "source": []
  },
  {
   "cell_type": "code",
   "execution_count": null,
   "id": "023f1eb6",
   "metadata": {},
   "outputs": [],
   "source": []
  }
 ],
 "metadata": {
  "kernelspec": {
   "display_name": "Python 3 (ipykernel)",
   "language": "python",
   "name": "python3"
  },
  "language_info": {
   "codemirror_mode": {
    "name": "ipython",
    "version": 3
   },
   "file_extension": ".py",
   "mimetype": "text/x-python",
   "name": "python",
   "nbconvert_exporter": "python",
   "pygments_lexer": "ipython3",
   "version": "3.11.5"
  }
 },
 "nbformat": 4,
 "nbformat_minor": 5
}
