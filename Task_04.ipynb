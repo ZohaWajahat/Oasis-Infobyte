{
 "cells": [
  {
   "cell_type": "code",
   "execution_count": 61,
   "id": "31cab9ba",
   "metadata": {},
   "outputs": [
    {
     "name": "stdout",
     "output_type": "stream",
     "text": [
      "Error downloading weather icon: name 'io' is not defined\n",
      "Error downloading weather icon: name 'io' is not defined\n"
     ]
    }
   ],
   "source": [
    "import tkinter as tk\n",
    "import requests\n",
    "from PIL import Image, ImageTk\n",
    "api_key = \"7c3bd65f1aa3683e0fc1e79081712b2f\"\n",
    "def get_weather(city):\n",
    "    url = f\"http://api.openweathermap.org/data/2.5/weather?q={city}&appid={api_key}\"\n",
    "    response = requests.get(url)\n",
    "    weather_data = response.json()\n",
    "    if weather_data[\"cod\"] == 200:\n",
    "        location = f\"City: {city}\"\n",
    "        temperature = f\"Temperature: {weather_data['main']['temp'] - 273.15:.1f}°C\"\n",
    "        description = f\"Description: {weather_data['weather'][0]['description']}\"\n",
    "        icon_url = f\"http://openweathermap.org/img/wn/{weather_data['weather'][0]['icon']}@2x.png\"\n",
    "        update_weather_info(location, temperature, description, icon_url)\n",
    "    else:\n",
    "        update_weather_info(f\"City not found\")\n",
    "def update_weather_info(location, temperature, description, icon_url=None):\n",
    "    weather_label.config(text=f\"{location}\\n{temperature}\\n{description}\")\n",
    "    if icon_url:\n",
    "        try:\n",
    "            response = requests.get(icon_url)\n",
    "            image = Image.open(io.BytesIO(response.content))\n",
    "            image = image.resize((64, 64), Image.ANTIALIAS)\n",
    "            photo = ImageTk.PhotoImage(image)\n",
    "            weather_icon_label.config(image=photo)\n",
    "            weather_icon_label.image = photo  # Keep a reference to avoid garbage collection\n",
    "        except Exception as e:\n",
    "            print(\"Error downloading weather icon:\", e)\n",
    "root = tk.Tk()\n",
    "root.title(\"Weather App\")\n",
    "root.configure(bg=\"lightblue\")\n",
    "city_label = tk.Label(root, text=\"Enter city name:\", bg=\"lightblue\", font=(\"Arial\", 14))\n",
    "city_label.pack(pady=10)\n",
    "city_entry = tk.Entry(root, font=(\"Arial\", 14))\n",
    "city_entry.pack(pady=5)\n",
    "get_weather_button = tk.Button(root, text=\"Get Weather\", command=lambda: get_weather(city_entry.get()), bg=\"lightblue\", font=(\"Arial\", 14))\n",
    "get_weather_button.pack(pady=5)\n",
    "weather_label = tk.Label(root, text=\"\", font=(\"Arial\", 14), bg=\"lightblue\")\n",
    "weather_label.pack(pady=10)\n",
    "weather_icon_label = tk.Label(root, bg=\"lightblue\")\n",
    "weather_icon_label.pack()\n",
    "root.mainloop()"
   ]
  },
  {
   "cell_type": "code",
   "execution_count": null,
   "id": "adc81569",
   "metadata": {},
   "outputs": [],
   "source": []
  }
 ],
 "metadata": {
  "kernelspec": {
   "display_name": "Python 3 (ipykernel)",
   "language": "python",
   "name": "python3"
  },
  "language_info": {
   "codemirror_mode": {
    "name": "ipython",
    "version": 3
   },
   "file_extension": ".py",
   "mimetype": "text/x-python",
   "name": "python",
   "nbconvert_exporter": "python",
   "pygments_lexer": "ipython3",
   "version": "3.11.5"
  }
 },
 "nbformat": 4,
 "nbformat_minor": 5
}
