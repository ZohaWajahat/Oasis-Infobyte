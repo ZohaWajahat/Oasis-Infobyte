{
 "cells": [
  {
   "cell_type": "code",
   "execution_count": 3,
   "id": "a1cdf7a0",
   "metadata": {},
   "outputs": [],
   "source": [
    "from tkinter import *\n",
    "import string\n",
    "import random\n",
    "import pyperclip\n",
    "def generator():\n",
    "    small_alphabet=string.ascii_lowercase\n",
    "    capital_alphabet=string.ascii_uppercase\n",
    "    numbers=string.digits\n",
    "    special_characters=string.punctuation\n",
    "    all_characters=small_alphabet+capital_alphabet+numbers+special_characters\n",
    "    password_length=int(length_Box.get())\n",
    "    if choice.get()==1:\n",
    "        passwordField.insert(0, random.sample(small_alphabet, password_length))\n",
    "    if choice.get()==2:\n",
    "        passwordField.insert(0, random.sample(small_alphabet+capital_alphabet, password_length))\n",
    "    if choice.get()==3:\n",
    "        passwordField.insert(0, random.sample(all_characters, password_length))\n",
    "def copy():\n",
    "    random_password=passwordField.get()\n",
    "    pyperclip.copy(random_password)\n",
    "root=Tk()\n",
    "root.config(bg=\"gray20\")\n",
    "choice=IntVar()\n",
    "Font=('arial', 13, 'bold')\n",
    "passwordLabel=Label(root, text=\"Password Generator\", font=('times new roman', 20, 'bold'), bg='gray20', fg='white')\n",
    "passwordLabel.grid(pady=10)\n",
    "weakradioButton=Radiobutton(root, text='Weak', value=1, variable=choice, font=Font)\n",
    "weakradioButton.grid(pady=5)\n",
    "mediumradioButton=Radiobutton(root, text='Medium', value=2, variable=choice, font=Font)\n",
    "mediumradioButton.grid(pady=5)\n",
    "strongradioButton=Radiobutton(root, text='Strong', value=3, variable=choice, font=Font)\n",
    "strongradioButton.grid(pady=5)\n",
    "lengthLabel=Label(root, text=\"Password Length\", font=Font, bg='gray20', fg='white')\n",
    "lengthLabel.grid(pady=5)\n",
    "length_Box=Spinbox(root, from_=5, to_=18, width=5, font=Font)\n",
    "length_Box.grid(pady=5)\n",
    "generateButton=Button(root, text='Generate', font=Font, command=generator)\n",
    "generateButton.grid(pady=5)\n",
    "passwordField=Entry(root, width=25, bd=2, font=Font)\n",
    "passwordField.grid()\n",
    "copyButton=Button(root, text='Copy', font=Font, command=copy)\n",
    "copyButton.grid(pady=5)\n",
    "root.mainloop()"
   ]
  },
  {
   "cell_type": "code",
   "execution_count": null,
   "id": "251e33b5",
   "metadata": {},
   "outputs": [],
   "source": []
  }
 ],
 "metadata": {
  "kernelspec": {
   "display_name": "Python 3 (ipykernel)",
   "language": "python",
   "name": "python3"
  },
  "language_info": {
   "codemirror_mode": {
    "name": "ipython",
    "version": 3
   },
   "file_extension": ".py",
   "mimetype": "text/x-python",
   "name": "python",
   "nbconvert_exporter": "python",
   "pygments_lexer": "ipython3",
   "version": "3.11.5"
  }
 },
 "nbformat": 4,
 "nbformat_minor": 5
}
